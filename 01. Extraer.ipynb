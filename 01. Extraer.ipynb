{
 "cells": [
  {
   "cell_type": "markdown",
   "metadata": {},
   "source": [
    "# Desafío Alkemy"
   ]
  },
  {
   "cell_type": "markdown",
   "metadata": {},
   "source": [
    "## Challenge Data Analytics -Python"
   ]
  },
  {
   "cell_type": "markdown",
   "metadata": {},
   "source": [
    "### Objetivo\n",
    "Crear un proyecto que consuma datos desde 3 fuentes distintas para popular una base de datos SQL con información cultural sobre bibliotecas, museos y salas de cines argentinos."
   ]
  },
  {
   "cell_type": "markdown",
   "metadata": {},
   "source": [
    "#### 0. Importar librerías"
   ]
  },
  {
   "cell_type": "code",
   "execution_count": 1,
   "metadata": {},
   "outputs": [],
   "source": [
    "from bs4 import BeautifulSoup\n",
    "import requests\n",
    "import os\n",
    "from datetime import date\n",
    "import pandas as pd"
   ]
  },
  {
   "cell_type": "markdown",
   "metadata": {},
   "source": [
    "#### 1.a Conseguir URLs de los csv\n",
    "Obtener los 3 archivos de fuente utilizando la librería requests y almacenarse en forma local<br> \n",
    "(Ten en cuenta que las urls pueden cambiar en un futuro):\n",
    "- Datos Argentina - Museos\n",
    "- Datos Argentina - Salas de Cine\n",
    "- Datos Argentina - Bibliotecas Populares"
   ]
  },
  {
   "cell_type": "code",
   "execution_count": 2,
   "metadata": {},
   "outputs": [],
   "source": [
    "url = 'https://datos.cultura.gob.ar/dataset/espacios-culturales-argentina-sinca'\n"
   ]
  },
  {
   "cell_type": "code",
   "execution_count": 4,
   "metadata": {},
   "outputs": [],
   "source": [
    "r = requests.get(url)\n",
    "contenido = r.text\n",
    "soup = BeautifulSoup(r.text, 'lxml')"
   ]
  },
  {
   "cell_type": "code",
   "execution_count": 9,
   "metadata": {},
   "outputs": [],
   "source": [
    "def get_urls(url):\n",
    "    '''\n",
    "    Devuelve un diccionario con las urls de los recursos del dataset\n",
    "    Pasar como argumento la url del dataset\n",
    "    '''\n",
    "    r = requests.get(url)\n",
    "    soup = BeautifulSoup(r.text, 'lxml')\n",
    "    diccionario = {}\n",
    "    for i in soup.find_all('h3'):\n",
    "        diccionario[i.text.strip()] = soup.find('h3', string=i.text)\\\n",
    "                             .find_previous('button', string='DESCARGAR')\\\n",
    "                             .find_previous('a')['href']\n",
    "    return diccionario\n",
    "dataset = get_urls(url)"
   ]
  },
  {
   "cell_type": "code",
   "execution_count": 11,
   "metadata": {},
   "outputs": [
    {
     "data": {
      "text/plain": [
       "{'Bibliotecas Especializadas': 'https://datos.cultura.gob.ar/dataset/37305de4-3cce-4d4b-9d9a-fec3ca61d09f/resource/456d1087-87f9-4e27-9c9c-1d9734c7e51d/download/08_biblio_espec.xlsx-sheet2.csv',\n",
       " 'Bibliotecas Populares': 'https://datos.cultura.gob.ar/dataset/37305de4-3cce-4d4b-9d9a-fec3ca61d09f/resource/01c6c048-dbeb-44e0-8efa-6944f73715d7/download/biblioteca_popular.csv',\n",
       " 'Casas del Bicentenario': 'https://datos.cultura.gob.ar/dataset/37305de4-3cce-4d4b-9d9a-fec3ca61d09f/resource/8d0b7f33-d570-4189-9961-9e907193aebc/download/casas-del-bicentenario.csv',\n",
       " 'Museo': 'https://datos.cultura.gob.ar/dataset/37305de4-3cce-4d4b-9d9a-fec3ca61d09f/resource/4207def0-2ff7-41d5-9095-d42ae8207a5d/download/museos_datosabiertos.csv',\n",
       " 'Sala de Teatro': 'https://datos.cultura.gob.ar/dataset/37305de4-3cce-4d4b-9d9a-fec3ca61d09f/resource/87ebac9c-774c-4ef2-afa7-044c41ee4190/download/17_teatro.xlsx-datos-abiertos.csv',\n",
       " 'Monumentos y lugares históricos': 'https://datos.cultura.gob.ar/dataset/37305de4-3cce-4d4b-9d9a-fec3ca61d09f/resource/5a03b397-a27a-4404-a2ec-d5cce6d1bff2/download/monumentos-y-lugares-historicos.csv',\n",
       " 'Galerías de arte': 'https://datos.cultura.gob.ar/dataset/37305de4-3cce-4d4b-9d9a-fec3ca61d09f/resource/ed0555f9-073a-42bf-9965-1d66108645c5/download/galerias-de-arte.csv',\n",
       " 'Centros Culturales': 'https://datos.cultura.gob.ar/dataset/37305de4-3cce-4d4b-9d9a-fec3ca61d09f/resource/0e9a431c-b4f7-455b-aa1a-f419b5740900/download/centros_culturales.csv',\n",
       " 'Librerías': 'https://datos.cultura.gob.ar/dataset/37305de4-3cce-4d4b-9d9a-fec3ca61d09f/resource/ee6ec36e-e4f2-42a0-adb8-525f0cb93c87/download/libreria.csv',\n",
       " 'Sitios declarados Patrimonio de la Humanidad por la UNESCO': 'https://datos.cultura.gob.ar/dataset/37305de4-3cce-4d4b-9d9a-fec3ca61d09f/resource/67e091bd-2aff-4f8d-937b-003ebe2eecd2/download/sitiospatrimoniohumanidadunesco.csv',\n",
       " 'Cine': 'https://datos.cultura.gob.ar/dataset/37305de4-3cce-4d4b-9d9a-fec3ca61d09f/resource/f7a8edb8-9208-41b0-8f19-d72811dcea97/download/salas_cine.csv'}"
      ]
     },
     "execution_count": 11,
     "metadata": {},
     "output_type": "execute_result"
    }
   ],
   "source": [
    "dataset"
   ]
  },
  {
   "cell_type": "markdown",
   "metadata": {},
   "source": [
    "#### 1.b Guardar archivos\n",
    "Organizar los archivos en rutas siguiendo la siguiente estructura: <br> **“categoría\\año-mes\\categoria-dia-mes-año.csv”**\n",
    "- Por ejemplo: “museos\\2021-noviembre\\museos-03-11-2021”\n",
    "- Si el archivo existe debe reemplazarse. La fecha de la nomenclatura es la fecha de descarga."
   ]
  },
  {
   "cell_type": "code",
   "execution_count": 12,
   "metadata": {},
   "outputs": [],
   "source": [
    "# Definir strings de fechas\n",
    "anio_mes = date.today().strftime('%Y-%B').lower()\n",
    "dia_mes_anio = date.today().strftime('%d-%m-%Y')"
   ]
  },
  {
   "cell_type": "code",
   "execution_count": 13,
   "metadata": {},
   "outputs": [
    {
     "data": {
      "text/plain": [
       "'2023-may'"
      ]
     },
     "execution_count": 13,
     "metadata": {},
     "output_type": "execute_result"
    }
   ],
   "source": [
    "anio_mes"
   ]
  },
  {
   "cell_type": "code",
   "execution_count": 6,
   "metadata": {},
   "outputs": [],
   "source": [
    "# Definir directorios\n",
    "dir_actual = os.getcwd()\n",
    "dir_bibliotecas = os.path.join(dir_actual+'/bibliotecas/'+anio_mes)\n",
    "dir_museos = os.path.join(dir_actual+'/museos/'+anio_mes)\n",
    "dir_cines = os.path.join(dir_actual+'/cines/'+anio_mes)"
   ]
  },
  {
   "cell_type": "code",
   "execution_count": 7,
   "metadata": {},
   "outputs": [],
   "source": [
    "# Creando directorio\n",
    "def crear_dir(dir_categoria):\n",
    "    if not os.path.exists(dir_categoria):\n",
    "            os.makedirs(dir_categoria)"
   ]
  },
  {
   "cell_type": "code",
   "execution_count": 8,
   "metadata": {},
   "outputs": [],
   "source": [
    "crear_dir(dir_bibliotecas)\n",
    "crear_dir(dir_cines)\n",
    "crear_dir(dir_museos)"
   ]
  },
  {
   "cell_type": "code",
   "execution_count": 9,
   "metadata": {},
   "outputs": [],
   "source": [
    "# Definir urls para cada base de datos\n",
    "url_bibliotecas = dataset.get('Bibliotecas Populares')\n",
    "url_museos = dataset.get('Museo')\n",
    "url_cines = dataset.get('Cine')\n"
   ]
  },
  {
   "cell_type": "code",
   "execution_count": 10,
   "metadata": {},
   "outputs": [],
   "source": [
    "# Definir path de archivos descargados\n",
    "csv_bibliotecas = os.path.join(dir_bibliotecas+'/bibliotecas-'+dia_mes_anio+'.csv')\n",
    "csv_museos = os.path.join(dir_museos+'/museos-'+dia_mes_anio+'.csv')\n",
    "csv_cines = os.path.join(dir_cines+'/cines-'+dia_mes_anio+'.csv')"
   ]
  },
  {
   "cell_type": "code",
   "execution_count": 11,
   "metadata": {},
   "outputs": [],
   "source": [
    "# Descargando urls\n",
    "def descargar_csv(url_csv, dir_salida):\n",
    "    response = requests.get(url_csv)\n",
    "    with open(dir_salida, 'wb') as csv:\n",
    "        csv.write(response.content)"
   ]
  },
  {
   "cell_type": "code",
   "execution_count": 12,
   "metadata": {},
   "outputs": [],
   "source": [
    "descargar_csv(url_bibliotecas, csv_bibliotecas)\n",
    "descargar_csv(url_museos, csv_museos)\n",
    "descargar_csv(url_cines, csv_cines)"
   ]
  }
 ],
 "metadata": {
  "kernelspec": {
   "display_name": "Python 3.10.6 64-bit",
   "language": "python",
   "name": "python3"
  },
  "language_info": {
   "codemirror_mode": {
    "name": "ipython",
    "version": 3
   },
   "file_extension": ".py",
   "mimetype": "text/x-python",
   "name": "python",
   "nbconvert_exporter": "python",
   "pygments_lexer": "ipython3",
   "version": "3.10.10"
  },
  "orig_nbformat": 4,
  "vscode": {
   "interpreter": {
    "hash": "916dbcbb3f70747c44a77c7bcd40155683ae19c65e1c03b4aa3499c5328201f1"
   }
  }
 },
 "nbformat": 4,
 "nbformat_minor": 2
}
