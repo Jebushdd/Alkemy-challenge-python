{
 "cells": [
  {
   "cell_type": "code",
   "execution_count": 140,
   "metadata": {},
   "outputs": [],
   "source": [
    "import pandas as pd"
   ]
  },
  {
   "cell_type": "markdown",
   "metadata": {},
   "source": [
    "### 2 Procesamiento de Datos\n",
    "<span>Normalizar toda la información de Museos, Salas de Cine y Bibliotecas Populares, para crear una única tabla que contenga:</span>\n",
    "\n",
    "<style>\n",
    "    ul{columns:4;}\n",
    "    div{margin-top:25px;}\n",
    "</style>\n",
    "<div class='lista'>\n",
    "    <ul>\n",
    "        <li>cod_localidad</li>\n",
    "        <li>id_provincia</li>\n",
    "        <li>id_departamento</li>\n",
    "        <li>categoría</li>\n",
    "        <li>provincia</li>\n",
    "        <li>localidad</li>\n",
    "        <li>nombre</li>\n",
    "        <li>domicilio</li>\n",
    "        <li>código postal</li>\n",
    "        <li>número de teléfono</li>\n",
    "        <li>mail</li>\n",
    "        <li>web</li>\n",
    "    </ul>\n",
    "</div>\n"
   ]
  },
  {
   "cell_type": "markdown",
   "metadata": {},
   "source": [
    "#### 2.1 Normalizando y consolidando columnas"
   ]
  },
  {
   "cell_type": "markdown",
   "metadata": {},
   "source": [
    "**❕❕❕ Crear constants con strings de fechas y paths a los archivos correspondientes ❕❕❕**"
   ]
  },
  {
   "cell_type": "code",
   "execution_count": 124,
   "metadata": {},
   "outputs": [],
   "source": [
    "# Leer csvs\n",
    "\n",
    "# ❕❕❕ Ajustar el path a cada archivo según fecha del evento ❕❕❕\n",
    "raw_df_bibliotecas = pd.read_csv('./bibliotecas/2022-October/bibliotecas-01-10-2022.csv')\n",
    "raw_df_museos = pd.read_csv('./museos/2022-October/museos-01-10-2022.csv')\n",
    "raw_df_cines = pd.read_csv('./cines/2022-October/cines-01-10-2022.csv')"
   ]
  },
  {
   "cell_type": "code",
   "execution_count": 125,
   "metadata": {},
   "outputs": [],
   "source": [
    "def set_columns_lower(df):\n",
    "    '''\n",
    "    Convierte los nombres de las variables\n",
    "    del dataframe a minúsculas\n",
    "    '''\n",
    "    df.columns = df.columns.str.lower()\n"
   ]
  },
  {
   "cell_type": "code",
   "execution_count": 126,
   "metadata": {},
   "outputs": [],
   "source": [
    "set_columns_lower(raw_df_bibliotecas)\n",
    "set_columns_lower(raw_df_museos)\n",
    "set_columns_lower(raw_df_cines)"
   ]
  },
  {
   "cell_type": "code",
   "execution_count": 127,
   "metadata": {},
   "outputs": [],
   "source": [
    "# Crear lista de nomenclaturas para nueva tabla\n",
    "columnas = ['cod_localidad', 'id_provincia', 'id_departamento', 'categoría', \n",
    "            'provincia', 'localidad', 'nombre', 'domicilio', 'código postal', \n",
    "            'número de teléfono', 'mail', 'web']"
   ]
  },
  {
   "cell_type": "code",
   "execution_count": 128,
   "metadata": {},
   "outputs": [],
   "source": [
    "# Seleccionar columnas necesarias en cada dataframe\n",
    "df_bibliotecas = raw_df_bibliotecas[['cod_loc', 'idprovincia', 'iddepartamento', 'categoría', 'provincia', 'localidad', 'nombre', 'domicilio', 'cp', 'teléfono', 'mail', 'web']]\n",
    "df_museos = raw_df_museos[['cod_loc', 'idprovincia', 'iddepartamento', 'categoria', 'provincia', 'localidad', 'nombre', 'direccion', 'cp', 'telefono', 'mail', 'web']]\n",
    "\n",
    "# Museos necesita columnas para telefono y mail\n",
    "raw_df_cines[['número de teléfono', 'mail']] = 's/d'\n",
    "#raw_df_cines['mail'] = 's/d'\n",
    "df_cines = raw_df_cines[['cod_localidad', 'id_provincia', 'id_departamento', 'categoria', 'provincia', 'localidad', 'nombre', 'direccion', 'cp', 'número de teléfono','mail' , 'web']]"
   ]
  },
  {
   "cell_type": "code",
   "execution_count": 129,
   "metadata": {},
   "outputs": [],
   "source": [
    "# Renombrando columnas\n",
    "def rename_cols(df, new_names):\n",
    "    '''\n",
    "    Crea un diccionario a partir de un zip entre las columnas actuales \n",
    "    del dataframe y una lista con sus correspondientes nuevos nombres\n",
    "    Pasar como primer argumento el dataframe con las columnas a renombrar\n",
    "    Pasar como segundo argumento la lista con los nuevos nombres de las columnas\n",
    "    Los indices de ambos argumentos deben coincidir para que se descompaginen los nombres\n",
    "    '''\n",
    "    diccionario = dict(zip(df.columns, new_names))\n",
    "    df = df.rename(columns=diccionario)\n",
    "    return df\n"
   ]
  },
  {
   "cell_type": "code",
   "execution_count": 130,
   "metadata": {},
   "outputs": [],
   "source": [
    "# Crear dataframes con columnas renombradas\n",
    "df_bibliotecas = rename_cols(df_bibliotecas, columnas)\n",
    "df_museos = rename_cols(df_museos, columnas)\n",
    "df_cines = rename_cols(df_cines, columnas)"
   ]
  },
  {
   "cell_type": "markdown",
   "metadata": {},
   "source": [
    "#### 2.2 Normalizando datos"
   ]
  },
  {
   "cell_type": "code",
   "execution_count": 131,
   "metadata": {},
   "outputs": [],
   "source": [
    "df_bibliotecas.fillna('s/d', inplace=True)\n",
    "df_museos.fillna('s/d', inplace=True)\n",
    "df_cines.fillna('s/d', inplace=True)"
   ]
  },
  {
   "cell_type": "markdown",
   "metadata": {},
   "source": [
    "#### 2.3 Crear tabla única"
   ]
  },
  {
   "cell_type": "code",
   "execution_count": 132,
   "metadata": {},
   "outputs": [],
   "source": [
    "consolidado = pd.concat([df_bibliotecas,df_museos,df_cines], ignore_index=True)"
   ]
  },
  {
   "cell_type": "markdown",
   "metadata": {},
   "source": [
    "### 3 Procesando los datos conjuntos\n"
   ]
  },
  {
   "cell_type": "markdown",
   "metadata": {},
   "source": [
    "#### 3.1 Generar una tabla con la siguiente información:\n",
    "- Cantidad de registros totales por categoría\n",
    "- Cantidad de registros totales por fuente\n",
    "- Cantidad de registros por provincia y categoría"
   ]
  },
  {
   "cell_type": "code",
   "execution_count": 133,
   "metadata": {},
   "outputs": [],
   "source": [
    "registros_categoria = pd.DataFrame(consolidado.groupby(by= 'categoría')['categoría'].count())\n",
    "registros_categoria.columns=['total_registros']"
   ]
  },
  {
   "cell_type": "code",
   "execution_count": 134,
   "metadata": {},
   "outputs": [],
   "source": [
    "registros_fuente = pd.concat([raw_df_bibliotecas,raw_df_museos,raw_df_cines], ignore_index=True)\n",
    "registros_fuente = pd.DataFrame(registros_fuente.groupby(by='fuente')['fuente'].count())\n",
    "registros_fuente.columns=['total_registros']"
   ]
  },
  {
   "cell_type": "code",
   "execution_count": 135,
   "metadata": {},
   "outputs": [],
   "source": [
    "registros_provincia_categoria = pd.DataFrame(consolidado.groupby(by=['provincia', 'categoría'])['provincia'].count())\n",
    "registros_provincia_categoria.columns = ['total_registros']"
   ]
  },
  {
   "cell_type": "markdown",
   "metadata": {},
   "source": [
    "#### 3.2 Procesar la información de cines\n",
    "Crear una tabla que contenga:\n",
    "- Provincia\n",
    "- Cantidad de pantallas\n",
    "- Cantidad de butacas\n",
    "- Cantidad de espacios INCAA"
   ]
  },
  {
   "cell_type": "code",
   "execution_count": 137,
   "metadata": {},
   "outputs": [],
   "source": [
    "tabla_cines = raw_df_cines[['provincia', 'pantallas', 'butacas', 'espacio_incaa']].copy()\n",
    "tabla_cines['espacio_incaa'] = (tabla_cines['espacio_incaa'] == 'Si').astype(int)\n",
    "tabla_cines = tabla_cines.groupby(by='provincia').sum()"
   ]
  }
 ],
 "metadata": {
  "kernelspec": {
   "display_name": "Python 3.10.5 64-bit",
   "language": "python",
   "name": "python3"
  },
  "language_info": {
   "codemirror_mode": {
    "name": "ipython",
    "version": 3
   },
   "file_extension": ".py",
   "mimetype": "text/x-python",
   "name": "python",
   "nbconvert_exporter": "python",
   "pygments_lexer": "ipython3",
   "version": "3.10.5"
  },
  "orig_nbformat": 4,
  "vscode": {
   "interpreter": {
    "hash": "ad2b602d900782d1669cfe4adc170349fca2d944c0dfaa7982a8f0f32d4ec4d5"
   }
  }
 },
 "nbformat": 4,
 "nbformat_minor": 2
}
