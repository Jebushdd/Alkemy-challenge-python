{
 "cells": [
  {
   "cell_type": "code",
   "execution_count": 122,
   "metadata": {},
   "outputs": [],
   "source": [
    "import pandas as pd\n",
    "import unicodedata\n",
    "from rutas import CSV_BIBLIOTECAS, CSV_CINES, CSV_MUSEOS\n"
   ]
  },
  {
   "cell_type": "markdown",
   "metadata": {},
   "source": [
    "### 2 Procesamiento de Datos\n",
    "<span>Normalizar toda la información de Museos, Salas de Cine y Bibliotecas Populares, para crear una única tabla que contenga:</span>\n",
    "\n",
    "<style>\n",
    "    ul{columns:4;}\n",
    "    div{margin-top:25px;}\n",
    "</style>\n",
    "<div class='lista'>\n",
    "    <ul>\n",
    "        <li>cod_localidad</li>\n",
    "        <li>id_provincia</li>\n",
    "        <li>id_departamento</li>\n",
    "        <li>categoría</li>\n",
    "        <li>provincia</li>\n",
    "        <li>localidad</li>\n",
    "        <li>nombre</li>\n",
    "        <li>domicilio</li>\n",
    "        <li>código postal</li>\n",
    "        <li>número de teléfono</li>\n",
    "        <li>mail</li>\n",
    "        <li>web</li>\n",
    "    </ul>\n",
    "</div>\n"
   ]
  },
  {
   "attachments": {},
   "cell_type": "markdown",
   "metadata": {},
   "source": [
    "#### 2.1 Normalizando y consolidando campos"
   ]
  },
  {
   "cell_type": "code",
   "execution_count": 164,
   "metadata": {},
   "outputs": [],
   "source": [
    "# Leer csvs\n",
    "\n",
    "raw_df_bibliotecas = pd.read_csv(CSV_BIBLIOTECAS)\n",
    "raw_df_museos = pd.read_csv(CSV_MUSEOS)\n",
    "raw_df_cines = pd.read_csv(CSV_CINES)"
   ]
  },
  {
   "cell_type": "code",
   "execution_count": 185,
   "metadata": {},
   "outputs": [],
   "source": [
    "def normalizar_campos(csv_file):\n",
    "    # Leer csv\n",
    "    raw_df = pd.read_csv(csv_file)\n",
    "    # Normalizar campos\n",
    "    raw_df.columns = raw_df.columns.str.lower()\n",
    "    raw_df.columns = raw_df.columns.str.normalize('NFKD').str.encode('ascii',errors='ignore').str.decode('utf-8')\n",
    "    return raw_df\n",
    "\n",
    "raw_df_bibliotecas = normalizar_campos(CSV_BIBLIOTECAS)\n",
    "raw_df_museos = normalizar_campos(CSV_MUSEOS)\n",
    "raw_df_cines = normalizar_campos(CSV_CINES)"
   ]
  },
  {
   "cell_type": "code",
   "execution_count": 186,
   "metadata": {},
   "outputs": [],
   "source": [
    "\n",
    "def normalizar_valores(df:pd.DataFrame):\n",
    "    new_df = df.applymap(lambda x: x.strip() if isinstance(x, str) else x)\n",
    "    new_df.fillna('s/d', inplace=True)\n",
    "    def no_tildes(texto):\n",
    "        new_value = unicodedata.normalize('NFKD',texto).encode('ascii',errors='ignore').decode('utf-8')\n",
    "        return new_value\n",
    "    new_df = new_df.applymap(lambda x: no_tildes(x) if isinstance(x, str) else x)\n",
    "    return new_df\n",
    "    "
   ]
  },
  {
   "cell_type": "code",
   "execution_count": 187,
   "metadata": {},
   "outputs": [],
   "source": [
    "raw_df_bibliotecas = normalizar_valores(raw_df_bibliotecas)\n",
    "raw_df_museos = normalizar_valores(raw_df_museos)\n",
    "raw_df_cines = normalizar_valores(raw_df_cines)"
   ]
  },
  {
   "cell_type": "code",
   "execution_count": 188,
   "metadata": {},
   "outputs": [
    {
     "data": {
      "text/plain": [
       "array(['Buenos Aires', 'Catamarca', 'Chaco', 'Chubut',\n",
       "       'Ciudad Autonoma de Buenos Aires', 'Cordoba', 'Corrientes',\n",
       "       'Entre Rios', 'Formosa', 'Jujuy', 'La Pampa', 'La Rioja',\n",
       "       'Mendoza', 'Misiones', 'Neuquen', 'Rio Negro', 'Salta', 'San Juan',\n",
       "       'San Luis', 'Santa Cruz', 'Santa Fe', 'Santiago del Estero',\n",
       "       'Tierra del Fuego, Antartida e Islas del Atlantico Sur', 'Tucuman'],\n",
       "      dtype=object)"
      ]
     },
     "execution_count": 188,
     "metadata": {},
     "output_type": "execute_result"
    }
   ],
   "source": [
    "raw_df_museos['provincia'].unique()"
   ]
  },
  {
   "cell_type": "code",
   "execution_count": 169,
   "metadata": {},
   "outputs": [
    {
     "data": {
      "text/plain": [
       "['Buenos Aires',\n",
       " 'Catamarca',\n",
       " 'Chaco',\n",
       " 'Chubut',\n",
       " 'Ciudad Autonoma de Buenos Aires',\n",
       " 'Cordoba',\n",
       " 'Corrientes',\n",
       " 'Entre Rios',\n",
       " 'Formosa',\n",
       " 'Jujuy',\n",
       " 'La Pampa',\n",
       " 'La Rioja',\n",
       " 'Mendoza',\n",
       " 'Misiones',\n",
       " 'Neuquen',\n",
       " 'Rio Negro',\n",
       " 'Salta',\n",
       " 'San Juan',\n",
       " 'San Luis',\n",
       " 'Santa Cruz',\n",
       " 'Santa Fe',\n",
       " 'Santiago del Estero',\n",
       " 'Tierra del Fuego',\n",
       " 'Tucuman']"
      ]
     },
     "execution_count": 169,
     "metadata": {},
     "output_type": "execute_result"
    }
   ],
   "source": [
    "sorted(raw_df_bibliotecas['provincia'].unique())"
   ]
  },
  {
   "cell_type": "code",
   "execution_count": 42,
   "metadata": {},
   "outputs": [],
   "source": [
    "def nuevos_campos(df:pd.DataFrame):\n",
    "    match df.categoria[0]:\n",
    "        case 'Salas de cine':\n",
    "            new_df = df[['cod_localidad', 'id_provincia', 'id_departamento', 'categoria', 'provincia', 'localidad', 'nombre', 'direccion', 'cp']].copy()\n",
    "            new_df[['número de teléfono', 'mail']] = 's/d'\n",
    "            new_df['web'] = df['web']\n",
    "        \n",
    "        case 'Espacios de Exhibición Patrimonial':\n",
    "            new_df = df[['cod_loc', 'idprovincia', 'iddepartamento', 'categoria', 'provincia', 'localidad', 'nombre', 'direccion', 'cp', 'telefono', 'mail', 'web']]\n",
    "        \n",
    "        case 'Bibliotecas Populares':\n",
    "            new_df = df[['cod_loc', 'idprovincia', 'iddepartamento', 'categoria', 'provincia', 'localidad', 'nombre', 'domicilio', 'cp', 'telefono', 'mail', 'web']]\n",
    "    \n",
    "    return new_df\n",
    "\n",
    "# Seleccionar columnas requeridas en cada dataframe\n",
    "df_bibliotecas = nuevos_campos(raw_df_bibliotecas)\n",
    "df_museos = nuevos_campos(raw_df_museos)\n",
    "df_cines = nuevos_campos(raw_df_cines)\n"
   ]
  },
  {
   "cell_type": "code",
   "execution_count": 7,
   "metadata": {},
   "outputs": [],
   "source": [
    "# Renombrando columnas\n",
    "def rename_cols(df):\n",
    "    '''\n",
    "    Crea un diccionario a partir de un zip entre las columnas actuales \n",
    "    del dataframe y una lista con sus correspondientes nuevos nombres\n",
    "    Pasar como argumento el dataframe con las columnas a renombrar\n",
    "    '''\n",
    "    # Crear lista de nomenclaturas para nueva tabla\n",
    "    columnas = ['cod_localidad', 'id_provincia', 'id_departamento', 'categoría', \n",
    "                'provincia', 'localidad', 'nombre', 'domicilio', 'código postal', \n",
    "                'número de teléfono', 'mail', 'web']\n",
    "    diccionario = dict(zip(df.columns, columnas))\n",
    "    df = df.rename(columns=diccionario)\n",
    "    return df\n"
   ]
  },
  {
   "cell_type": "code",
   "execution_count": 8,
   "metadata": {},
   "outputs": [],
   "source": [
    "# Crear dataframes con columnas renombradas\n",
    "df_bibliotecas = rename_cols(df_bibliotecas)\n",
    "df_museos = rename_cols(df_museos)\n",
    "df_cines = rename_cols(df_cines)"
   ]
  },
  {
   "cell_type": "markdown",
   "metadata": {},
   "source": [
    "#### 2.2 Normalizando datos"
   ]
  },
  {
   "cell_type": "code",
   "execution_count": 9,
   "metadata": {},
   "outputs": [],
   "source": [
    "df_bibliotecas.fillna('s/d', inplace=True)\n",
    "df_museos.fillna('s/d', inplace=True)\n",
    "df_cines.fillna('s/d', inplace=True)"
   ]
  },
  {
   "cell_type": "markdown",
   "metadata": {},
   "source": [
    "#### 2.3 Crear tabla única"
   ]
  },
  {
   "cell_type": "code",
   "execution_count": 10,
   "metadata": {},
   "outputs": [],
   "source": [
    "consolidado = pd.concat([df_bibliotecas,df_museos,df_cines], ignore_index=True)"
   ]
  },
  {
   "cell_type": "markdown",
   "metadata": {},
   "source": [
    "### 3 Procesando los datos conjuntos\n"
   ]
  },
  {
   "cell_type": "markdown",
   "metadata": {},
   "source": [
    "#### 3.1 Generar una tabla con la siguiente información:\n",
    "- Cantidad de registros totales por categoría\n",
    "- Cantidad de registros totales por fuente\n",
    "- Cantidad de registros por provincia y categoría"
   ]
  },
  {
   "cell_type": "code",
   "execution_count": 11,
   "metadata": {},
   "outputs": [],
   "source": [
    "registros_categoria = pd.DataFrame(consolidado.groupby(by= 'categoría')['categoría'].count())\n",
    "registros_categoria.columns=['total_registros']"
   ]
  },
  {
   "cell_type": "code",
   "execution_count": 12,
   "metadata": {},
   "outputs": [],
   "source": [
    "registros_categoria.reset_index(inplace=True)"
   ]
  },
  {
   "cell_type": "code",
   "execution_count": 13,
   "metadata": {},
   "outputs": [
    {
     "data": {
      "text/html": [
       "<div>\n",
       "<style scoped>\n",
       "    .dataframe tbody tr th:only-of-type {\n",
       "        vertical-align: middle;\n",
       "    }\n",
       "\n",
       "    .dataframe tbody tr th {\n",
       "        vertical-align: top;\n",
       "    }\n",
       "\n",
       "    .dataframe thead th {\n",
       "        text-align: right;\n",
       "    }\n",
       "</style>\n",
       "<table border=\"1\" class=\"dataframe\">\n",
       "  <thead>\n",
       "    <tr style=\"text-align: right;\">\n",
       "      <th></th>\n",
       "      <th>categoría</th>\n",
       "      <th>total_registros</th>\n",
       "    </tr>\n",
       "  </thead>\n",
       "  <tbody>\n",
       "    <tr>\n",
       "      <th>0</th>\n",
       "      <td>Bibliotecas Populares</td>\n",
       "      <td>2017</td>\n",
       "    </tr>\n",
       "    <tr>\n",
       "      <th>1</th>\n",
       "      <td>Espacios de Exhibición Patrimonial</td>\n",
       "      <td>1182</td>\n",
       "    </tr>\n",
       "    <tr>\n",
       "      <th>2</th>\n",
       "      <td>Salas de cine</td>\n",
       "      <td>316</td>\n",
       "    </tr>\n",
       "  </tbody>\n",
       "</table>\n",
       "</div>"
      ],
      "text/plain": [
       "                            categoría  total_registros\n",
       "0               Bibliotecas Populares             2017\n",
       "1  Espacios de Exhibición Patrimonial             1182\n",
       "2                       Salas de cine              316"
      ]
     },
     "execution_count": 13,
     "metadata": {},
     "output_type": "execute_result"
    }
   ],
   "source": [
    "registros_categoria"
   ]
  },
  {
   "cell_type": "code",
   "execution_count": 189,
   "metadata": {},
   "outputs": [],
   "source": [
    "campos_agregaciones = ['provincia','categoria','fuente']\n",
    "bibliotecas_aggr = raw_df_bibliotecas[campos_agregaciones]\n",
    "cines_aggr = raw_df_cines[campos_agregaciones]\n",
    "museos_aggr = raw_df_museos[campos_agregaciones]\n",
    "lista_dfs_aggr = [bibliotecas_aggr,museos_aggr,museos_aggr]\n",
    "unificado_aggr = pd.concat(lista_dfs_aggr, ignore_index=True)"
   ]
  },
  {
   "cell_type": "code",
   "execution_count": 190,
   "metadata": {},
   "outputs": [],
   "source": [
    "def limpiar_tdf(provincia:pd.Series):\n",
    "    return provincia.split(',')[0]\n",
    "unificado_aggr['provincia'] = unificado_aggr['provincia'].apply(limpiar_tdf)"
   ]
  },
  {
   "cell_type": "code",
   "execution_count": 194,
   "metadata": {},
   "outputs": [
    {
     "data": {
      "text/plain": [
       "Index(['provincia', 'categoria', 'fuente'], dtype='object')"
      ]
     },
     "execution_count": 194,
     "metadata": {},
     "output_type": "execute_result"
    }
   ],
   "source": [
    "unificado_aggr.columns"
   ]
  },
  {
   "cell_type": "code",
   "execution_count": 193,
   "metadata": {},
   "outputs": [
    {
     "data": {
      "text/plain": [
       "fuente\n",
       "Area Gestion Cultural de la Municipalidad de Colonia Caroya               8\n",
       "CNMLH - Enlace SInCA                                                      2\n",
       "CNMLH - Ente Cultural de Tucuman                                          2\n",
       "CONABIP                                                                2010\n",
       "DNPyM                                                                  2096\n",
       "Direccion Provincial de Patrimonio Cultural - Enlace SInCA                2\n",
       "Direccion de Cultura de Villa Allende                                     4\n",
       "Direccion de Cultura y de Educacion de la Municipalidad de Unquillo       2\n",
       "Gob. Pcia.                                                                1\n",
       "Gobierno de la Provincia                                                 28\n",
       "Gobierno de la Provincia de Chubut / SInCA 2013                           6\n",
       "Gobierno de la Provincia de Jujuy                                         8\n",
       "Gobierno de la Provincia de La Pampa                                      2\n",
       "Gobierno de la Provincia de La Rioja                                      2\n",
       "Gobierno de la Provincia de Mendoza                                       8\n",
       "Gobierno de la Provincia de Neuquen                                       2\n",
       "Gobierno de la Provincia de Salta                                         2\n",
       "Gobierno de la Provincia de San Juan                                      6\n",
       "Gobierno de la provincia                                                  2\n",
       "Municipalidad de Puerto Madryn                                            4\n",
       "Municipalidad de Rio Gallegos - Red de Ciudades Creativas                 8\n",
       "Municipalidad de Santa Fe - Red de Ciudades Creativas                    74\n",
       "RCC                                                                      20\n",
       "RCC- Cordoba                                                             62\n",
       "Red de Espacios Culturales Vicente Lopez                                  8\n",
       "SInCA                                                                     2\n",
       "Secretaria de Cultura Provincial                                          6\n",
       "Secretaria de Cultura del Municipio de Esteban Echeverria                 2\n",
       "UNLA                                                                      2\n",
       "Name: fuente, dtype: int64"
      ]
     },
     "execution_count": 193,
     "metadata": {},
     "output_type": "execute_result"
    }
   ],
   "source": [
    "unificado_aggr.groupby(by='fuente')['fuente'].count()"
   ]
  },
  {
   "cell_type": "code",
   "execution_count": 14,
   "metadata": {},
   "outputs": [],
   "source": [
    "registros_fuente = pd.concat([raw_df_bibliotecas,raw_df_museos,raw_df_cines], ignore_index=True)\n",
    "registros_fuente = pd.DataFrame(registros_fuente.groupby(by='fuente')['fuente'].count())\n",
    "registros_fuente.columns=['total_registros']"
   ]
  },
  {
   "cell_type": "code",
   "execution_count": 43,
   "metadata": {},
   "outputs": [
    {
     "data": {
      "text/plain": [
       "Index(['cod_loc', 'idprovincia', 'iddepartamento', 'observacion', 'categoria',\n",
       "       'subcategoria', 'provincia', 'departamento', 'localidad', 'nombre',\n",
       "       'domicilio', 'piso', 'cp', 'cod_tel', 'telefono', 'mail', 'web',\n",
       "       'informacion adicional', 'latitud', 'longitud', 'tipolatitudlongitud',\n",
       "       'fuente', 'tipo_gestion', 'ano_inicio', 'ano_actualizacion',\n",
       "       'observaciones', 'direccion', 'cod_area', 'info_adicional',\n",
       "       'jurisdiccion', 'ano_inauguracion', 'actualizacion', 'cod_localidad',\n",
       "       'id_provincia', 'id_departamento', 'tipo_latitud_longitud', 'sector',\n",
       "       'pantallas', 'butacas', 'tipo_de_gestion', 'espacio_incaa'],\n",
       "      dtype='object')"
      ]
     },
     "execution_count": 43,
     "metadata": {},
     "output_type": "execute_result"
    }
   ],
   "source": [
    "pd.concat([raw_df_bibliotecas,raw_df_museos,raw_df_cines], ignore_index=True).columns"
   ]
  },
  {
   "cell_type": "code",
   "execution_count": 18,
   "metadata": {},
   "outputs": [
    {
     "data": {
      "text/html": [
       "<div>\n",
       "<style scoped>\n",
       "    .dataframe tbody tr th:only-of-type {\n",
       "        vertical-align: middle;\n",
       "    }\n",
       "\n",
       "    .dataframe tbody tr th {\n",
       "        vertical-align: top;\n",
       "    }\n",
       "\n",
       "    .dataframe thead th {\n",
       "        text-align: right;\n",
       "    }\n",
       "</style>\n",
       "<table border=\"1\" class=\"dataframe\">\n",
       "  <thead>\n",
       "    <tr style=\"text-align: right;\">\n",
       "      <th></th>\n",
       "      <th>fuente</th>\n",
       "      <th>total_registros</th>\n",
       "    </tr>\n",
       "  </thead>\n",
       "  <tbody>\n",
       "    <tr>\n",
       "      <th>0</th>\n",
       "      <td>CNMLH - Enlace SInCA</td>\n",
       "      <td>1</td>\n",
       "    </tr>\n",
       "    <tr>\n",
       "      <th>1</th>\n",
       "      <td>CNMLH - Ente Cultural de Tucumán</td>\n",
       "      <td>1</td>\n",
       "    </tr>\n",
       "    <tr>\n",
       "      <th>2</th>\n",
       "      <td>CONABIP</td>\n",
       "      <td>2010</td>\n",
       "    </tr>\n",
       "    <tr>\n",
       "      <th>3</th>\n",
       "      <td>DNPyM</td>\n",
       "      <td>1048</td>\n",
       "    </tr>\n",
       "    <tr>\n",
       "      <th>4</th>\n",
       "      <td>Dirección Provincial de Patrimonio Cultural - ...</td>\n",
       "      <td>1</td>\n",
       "    </tr>\n",
       "    <tr>\n",
       "      <th>5</th>\n",
       "      <td>Dirección de Cultura de Villa Allende</td>\n",
       "      <td>2</td>\n",
       "    </tr>\n",
       "    <tr>\n",
       "      <th>6</th>\n",
       "      <td>Dirección de Cultura y de Educación de la Muni...</td>\n",
       "      <td>1</td>\n",
       "    </tr>\n",
       "    <tr>\n",
       "      <th>7</th>\n",
       "      <td>Gob. Pcia.</td>\n",
       "      <td>1</td>\n",
       "    </tr>\n",
       "    <tr>\n",
       "      <th>8</th>\n",
       "      <td>Gobierno de la Provincia</td>\n",
       "      <td>14</td>\n",
       "    </tr>\n",
       "    <tr>\n",
       "      <th>9</th>\n",
       "      <td>Gobierno de la Provincia de Chubut / SInCA 2013</td>\n",
       "      <td>3</td>\n",
       "    </tr>\n",
       "    <tr>\n",
       "      <th>10</th>\n",
       "      <td>Gobierno de la Provincia de Jujuy</td>\n",
       "      <td>4</td>\n",
       "    </tr>\n",
       "    <tr>\n",
       "      <th>11</th>\n",
       "      <td>Gobierno de la Provincia de La Pampa</td>\n",
       "      <td>1</td>\n",
       "    </tr>\n",
       "    <tr>\n",
       "      <th>12</th>\n",
       "      <td>Gobierno de la Provincia de La Rioja</td>\n",
       "      <td>1</td>\n",
       "    </tr>\n",
       "    <tr>\n",
       "      <th>13</th>\n",
       "      <td>Gobierno de la Provincia de Mendoza</td>\n",
       "      <td>4</td>\n",
       "    </tr>\n",
       "    <tr>\n",
       "      <th>14</th>\n",
       "      <td>Gobierno de la Provincia de Neuquén</td>\n",
       "      <td>1</td>\n",
       "    </tr>\n",
       "    <tr>\n",
       "      <th>15</th>\n",
       "      <td>Gobierno de la Provincia de Salta</td>\n",
       "      <td>1</td>\n",
       "    </tr>\n",
       "    <tr>\n",
       "      <th>16</th>\n",
       "      <td>Gobierno de la Provincia de San Juan</td>\n",
       "      <td>3</td>\n",
       "    </tr>\n",
       "    <tr>\n",
       "      <th>17</th>\n",
       "      <td>Gobierno de la provincia</td>\n",
       "      <td>1</td>\n",
       "    </tr>\n",
       "    <tr>\n",
       "      <th>18</th>\n",
       "      <td>INCAA / SInCA</td>\n",
       "      <td>316</td>\n",
       "    </tr>\n",
       "    <tr>\n",
       "      <th>19</th>\n",
       "      <td>Municipalidad de Puerto Madryn</td>\n",
       "      <td>2</td>\n",
       "    </tr>\n",
       "    <tr>\n",
       "      <th>20</th>\n",
       "      <td>Municipalidad de Río Gallegos - Red de Ciudade...</td>\n",
       "      <td>4</td>\n",
       "    </tr>\n",
       "    <tr>\n",
       "      <th>21</th>\n",
       "      <td>Municipalidad de Santa Fe - Red de Ciudades Cr...</td>\n",
       "      <td>37</td>\n",
       "    </tr>\n",
       "    <tr>\n",
       "      <th>22</th>\n",
       "      <td>RCC</td>\n",
       "      <td>10</td>\n",
       "    </tr>\n",
       "    <tr>\n",
       "      <th>23</th>\n",
       "      <td>RCC- Córdoba</td>\n",
       "      <td>31</td>\n",
       "    </tr>\n",
       "    <tr>\n",
       "      <th>24</th>\n",
       "      <td>Red de Espacios Culturales Vicente López</td>\n",
       "      <td>4</td>\n",
       "    </tr>\n",
       "    <tr>\n",
       "      <th>25</th>\n",
       "      <td>SInCA</td>\n",
       "      <td>1</td>\n",
       "    </tr>\n",
       "    <tr>\n",
       "      <th>26</th>\n",
       "      <td>Secretaria de Cultura Provincial</td>\n",
       "      <td>6</td>\n",
       "    </tr>\n",
       "    <tr>\n",
       "      <th>27</th>\n",
       "      <td>Secretaria de Cultura del Municipio de Esteban...</td>\n",
       "      <td>1</td>\n",
       "    </tr>\n",
       "    <tr>\n",
       "      <th>28</th>\n",
       "      <td>UNLA</td>\n",
       "      <td>1</td>\n",
       "    </tr>\n",
       "    <tr>\n",
       "      <th>29</th>\n",
       "      <td>Área Gestión Cultural de la Municipalidad de C...</td>\n",
       "      <td>4</td>\n",
       "    </tr>\n",
       "  </tbody>\n",
       "</table>\n",
       "</div>"
      ],
      "text/plain": [
       "                                               fuente  total_registros\n",
       "0                                CNMLH - Enlace SInCA                1\n",
       "1                    CNMLH - Ente Cultural de Tucumán                1\n",
       "2                                             CONABIP             2010\n",
       "3                                               DNPyM             1048\n",
       "4   Dirección Provincial de Patrimonio Cultural - ...                1\n",
       "5               Dirección de Cultura de Villa Allende                2\n",
       "6   Dirección de Cultura y de Educación de la Muni...                1\n",
       "7                                          Gob. Pcia.                1\n",
       "8                            Gobierno de la Provincia               14\n",
       "9     Gobierno de la Provincia de Chubut / SInCA 2013                3\n",
       "10                  Gobierno de la Provincia de Jujuy                4\n",
       "11               Gobierno de la Provincia de La Pampa                1\n",
       "12               Gobierno de la Provincia de La Rioja                1\n",
       "13                Gobierno de la Provincia de Mendoza                4\n",
       "14                Gobierno de la Provincia de Neuquén                1\n",
       "15                  Gobierno de la Provincia de Salta                1\n",
       "16               Gobierno de la Provincia de San Juan                3\n",
       "17                           Gobierno de la provincia                1\n",
       "18                                      INCAA / SInCA              316\n",
       "19                     Municipalidad de Puerto Madryn                2\n",
       "20  Municipalidad de Río Gallegos - Red de Ciudade...                4\n",
       "21  Municipalidad de Santa Fe - Red de Ciudades Cr...               37\n",
       "22                                                RCC               10\n",
       "23                                       RCC- Córdoba               31\n",
       "24           Red de Espacios Culturales Vicente López                4\n",
       "25                                              SInCA                1\n",
       "26                   Secretaria de Cultura Provincial                6\n",
       "27  Secretaria de Cultura del Municipio de Esteban...                1\n",
       "28                                               UNLA                1\n",
       "29  Área Gestión Cultural de la Municipalidad de C...                4"
      ]
     },
     "execution_count": 18,
     "metadata": {},
     "output_type": "execute_result"
    }
   ],
   "source": [
    "registros_fuente.reset_index(inplace=True)\n",
    "registros_fuente"
   ]
  },
  {
   "cell_type": "code",
   "execution_count": 28,
   "metadata": {},
   "outputs": [
    {
     "data": {
      "text/plain": [
       "array(['CNMLH - Enlace SInCA', 'CNMLH - Ente Cultural de Tucumán',\n",
       "       'CONABIP', 'DNPyM',\n",
       "       'Dirección Provincial de Patrimonio Cultural - Enlace SInCA',\n",
       "       'Dirección de Cultura de Villa Allende',\n",
       "       'Dirección de Cultura y de Educación de la Municipalidad de Unquillo',\n",
       "       'Gob. Pcia.', 'Gobierno de la Provincia',\n",
       "       'Gobierno de la Provincia de Chubut / SInCA 2013',\n",
       "       'Gobierno de la Provincia de Jujuy',\n",
       "       'Gobierno de la Provincia de La Pampa',\n",
       "       'Gobierno de la Provincia de La Rioja',\n",
       "       'Gobierno de la Provincia de Mendoza',\n",
       "       'Gobierno de la Provincia de Neuquén',\n",
       "       'Gobierno de la Provincia de Salta',\n",
       "       'Gobierno de la Provincia de San Juan', 'Gobierno de la provincia',\n",
       "       'INCAA / SInCA', 'Municipalidad de Puerto Madryn',\n",
       "       'Municipalidad de Río Gallegos - Red de Ciudades Creativas',\n",
       "       'Municipalidad de Santa Fe - Red de Ciudades Creativas', 'RCC',\n",
       "       'RCC- Córdoba', 'Red de Espacios Culturales Vicente López',\n",
       "       'SInCA', 'Secretaria de Cultura Provincial',\n",
       "       'Secretaria de Cultura del Municipio de Esteban Echeverría',\n",
       "       'UNLA',\n",
       "       'Área Gestión Cultural de la Municipalidad de Colonia Caroya'],\n",
       "      dtype=object)"
      ]
     },
     "execution_count": 28,
     "metadata": {},
     "output_type": "execute_result"
    }
   ],
   "source": [
    "registros_fuente.fuente.unique()"
   ]
  },
  {
   "cell_type": "code",
   "execution_count": 25,
   "metadata": {},
   "outputs": [],
   "source": [
    "registros_provincia_categoria = pd.DataFrame(consolidado.groupby(by=['provincia', 'categoría'])['provincia'].count())\n",
    "registros_provincia_categoria.columns = ['total_registros']"
   ]
  },
  {
   "cell_type": "code",
   "execution_count": 26,
   "metadata": {},
   "outputs": [
    {
     "data": {
      "text/html": [
       "<div>\n",
       "<style scoped>\n",
       "    .dataframe tbody tr th:only-of-type {\n",
       "        vertical-align: middle;\n",
       "    }\n",
       "\n",
       "    .dataframe tbody tr th {\n",
       "        vertical-align: top;\n",
       "    }\n",
       "\n",
       "    .dataframe thead th {\n",
       "        text-align: right;\n",
       "    }\n",
       "</style>\n",
       "<table border=\"1\" class=\"dataframe\">\n",
       "  <thead>\n",
       "    <tr style=\"text-align: right;\">\n",
       "      <th></th>\n",
       "      <th>provincia</th>\n",
       "      <th>categoría</th>\n",
       "      <th>total_registros</th>\n",
       "    </tr>\n",
       "  </thead>\n",
       "  <tbody>\n",
       "    <tr>\n",
       "      <th>0</th>\n",
       "      <td>Buenos Aires</td>\n",
       "      <td>Bibliotecas Populares</td>\n",
       "      <td>543</td>\n",
       "    </tr>\n",
       "    <tr>\n",
       "      <th>1</th>\n",
       "      <td>Buenos Aires</td>\n",
       "      <td>Espacios de Exhibición Patrimonial</td>\n",
       "      <td>152</td>\n",
       "    </tr>\n",
       "    <tr>\n",
       "      <th>2</th>\n",
       "      <td>Buenos Aires</td>\n",
       "      <td>Salas de cine</td>\n",
       "      <td>101</td>\n",
       "    </tr>\n",
       "    <tr>\n",
       "      <th>3</th>\n",
       "      <td>Catamarca</td>\n",
       "      <td>Bibliotecas Populares</td>\n",
       "      <td>38</td>\n",
       "    </tr>\n",
       "    <tr>\n",
       "      <th>4</th>\n",
       "      <td>Catamarca</td>\n",
       "      <td>Espacios de Exhibición Patrimonial</td>\n",
       "      <td>32</td>\n",
       "    </tr>\n",
       "    <tr>\n",
       "      <th>...</th>\n",
       "      <td>...</td>\n",
       "      <td>...</td>\n",
       "      <td>...</td>\n",
       "    </tr>\n",
       "    <tr>\n",
       "      <th>68</th>\n",
       "      <td>Tierra del Fuego</td>\n",
       "      <td>Salas de cine</td>\n",
       "      <td>3</td>\n",
       "    </tr>\n",
       "    <tr>\n",
       "      <th>69</th>\n",
       "      <td>Tierra del Fuego, Antártida e Islas del Atlánt...</td>\n",
       "      <td>Espacios de Exhibición Patrimonial</td>\n",
       "      <td>14</td>\n",
       "    </tr>\n",
       "    <tr>\n",
       "      <th>70</th>\n",
       "      <td>Tucumán</td>\n",
       "      <td>Bibliotecas Populares</td>\n",
       "      <td>37</td>\n",
       "    </tr>\n",
       "    <tr>\n",
       "      <th>71</th>\n",
       "      <td>Tucumán</td>\n",
       "      <td>Espacios de Exhibición Patrimonial</td>\n",
       "      <td>26</td>\n",
       "    </tr>\n",
       "    <tr>\n",
       "      <th>72</th>\n",
       "      <td>Tucumán</td>\n",
       "      <td>Salas de cine</td>\n",
       "      <td>11</td>\n",
       "    </tr>\n",
       "  </tbody>\n",
       "</table>\n",
       "<p>73 rows × 3 columns</p>\n",
       "</div>"
      ],
      "text/plain": [
       "                                            provincia   \n",
       "0                                        Buenos Aires  \\\n",
       "1                                        Buenos Aires   \n",
       "2                                        Buenos Aires   \n",
       "3                                           Catamarca   \n",
       "4                                           Catamarca   \n",
       "..                                                ...   \n",
       "68                                   Tierra del Fuego   \n",
       "69  Tierra del Fuego, Antártida e Islas del Atlánt...   \n",
       "70                                            Tucumán   \n",
       "71                                            Tucumán   \n",
       "72                                            Tucumán   \n",
       "\n",
       "                             categoría  total_registros  \n",
       "0                Bibliotecas Populares              543  \n",
       "1   Espacios de Exhibición Patrimonial              152  \n",
       "2                        Salas de cine              101  \n",
       "3                Bibliotecas Populares               38  \n",
       "4   Espacios de Exhibición Patrimonial               32  \n",
       "..                                 ...              ...  \n",
       "68                       Salas de cine                3  \n",
       "69  Espacios de Exhibición Patrimonial               14  \n",
       "70               Bibliotecas Populares               37  \n",
       "71  Espacios de Exhibición Patrimonial               26  \n",
       "72                       Salas de cine               11  \n",
       "\n",
       "[73 rows x 3 columns]"
      ]
     },
     "execution_count": 26,
     "metadata": {},
     "output_type": "execute_result"
    }
   ],
   "source": [
    "registros_provincia_categoria.reset_index(inplace=True)\n",
    "registros_provincia_categoria"
   ]
  },
  {
   "cell_type": "code",
   "execution_count": 27,
   "metadata": {},
   "outputs": [
    {
     "data": {
      "text/plain": [
       "array(['Buenos Aires', 'Catamarca', 'Chaco', 'Chubut',\n",
       "       'Ciudad Autónoma de Buenos Aires', 'Corrientes', 'Córdoba',\n",
       "       'Entre Ríos', 'Formosa', 'Jujuy', 'La Pampa', 'La Rioja',\n",
       "       'Mendoza', 'Misiones', 'Neuquén', 'Neuquén\\xa0', 'Río Negro',\n",
       "       'Salta', 'San Juan', 'San Luis', 'Santa Cruz', 'Santa Fe',\n",
       "       'Santa Fé', 'Santiago del Estero', 'Tierra del Fuego',\n",
       "       'Tierra del Fuego, Antártida e Islas del Atlántico Sur', 'Tucumán'],\n",
       "      dtype=object)"
      ]
     },
     "execution_count": 27,
     "metadata": {},
     "output_type": "execute_result"
    }
   ],
   "source": [
    "registros_provincia_categoria.provincia.unique()"
   ]
  },
  {
   "cell_type": "markdown",
   "metadata": {},
   "source": [
    "#### 3.2 Procesar la información de cines\n",
    "Crear una tabla que contenga:\n",
    "- Provincia\n",
    "- Cantidad de pantallas\n",
    "- Cantidad de butacas\n",
    "- Cantidad de espacios INCAA"
   ]
  },
  {
   "cell_type": "code",
   "execution_count": 137,
   "metadata": {},
   "outputs": [],
   "source": [
    "tabla_cines = raw_df_cines[['provincia', 'pantallas', 'butacas', 'espacio_incaa']].copy()\n",
    "tabla_cines['espacio_incaa'] = (tabla_cines['espacio_incaa'] == 'Si').astype(int)\n",
    "tabla_cines = tabla_cines.groupby(by='provincia').sum()"
   ]
  }
 ],
 "metadata": {
  "kernelspec": {
   "display_name": "Python 3.10.5 64-bit",
   "language": "python",
   "name": "python3"
  },
  "language_info": {
   "codemirror_mode": {
    "name": "ipython",
    "version": 3
   },
   "file_extension": ".py",
   "mimetype": "text/x-python",
   "name": "python",
   "nbconvert_exporter": "python",
   "pygments_lexer": "ipython3",
   "version": "3.10.10"
  },
  "orig_nbformat": 4,
  "vscode": {
   "interpreter": {
    "hash": "ad2b602d900782d1669cfe4adc170349fca2d944c0dfaa7982a8f0f32d4ec4d5"
   }
  }
 },
 "nbformat": 4,
 "nbformat_minor": 2
}
