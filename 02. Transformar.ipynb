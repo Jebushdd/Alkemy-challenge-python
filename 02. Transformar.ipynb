{
 "cells": [
  {
   "cell_type": "code",
   "execution_count": 1,
   "metadata": {},
   "outputs": [],
   "source": [
    "import pandas as pd\n",
    "from rutas import CSV_BIBLIOTECAS, CSV_CINES, CSV_MUSEOS\n"
   ]
  },
  {
   "cell_type": "markdown",
   "metadata": {},
   "source": [
    "### 2 Procesamiento de Datos\n",
    "<span>Normalizar toda la información de Museos, Salas de Cine y Bibliotecas Populares, para crear una única tabla que contenga:</span>\n",
    "\n",
    "<style>\n",
    "    ul{columns:4;}\n",
    "    div{margin-top:25px;}\n",
    "</style>\n",
    "<div class='lista'>\n",
    "    <ul>\n",
    "        <li>cod_localidad</li>\n",
    "        <li>id_provincia</li>\n",
    "        <li>id_departamento</li>\n",
    "        <li>categoría</li>\n",
    "        <li>provincia</li>\n",
    "        <li>localidad</li>\n",
    "        <li>nombre</li>\n",
    "        <li>domicilio</li>\n",
    "        <li>código postal</li>\n",
    "        <li>número de teléfono</li>\n",
    "        <li>mail</li>\n",
    "        <li>web</li>\n",
    "    </ul>\n",
    "</div>\n"
   ]
  },
  {
   "attachments": {},
   "cell_type": "markdown",
   "metadata": {},
   "source": [
    "#### 2.1 Normalizando y consolidando campos"
   ]
  },
  {
   "cell_type": "code",
   "execution_count": 33,
   "metadata": {},
   "outputs": [],
   "source": [
    "# Leer csvs\n",
    "\n",
    "raw_df_bibliotecas = pd.read_csv(CSV_BIBLIOTECAS)\n",
    "raw_df_museos = pd.read_csv(CSV_MUSEOS)\n",
    "raw_df_cines = pd.read_csv(CSV_CINES)"
   ]
  },
  {
   "cell_type": "code",
   "execution_count": 21,
   "metadata": {},
   "outputs": [],
   "source": [
    "raw_df_bibliotecas.columns = raw_df_bibliotecas.columns.str.normalize('NFKD').str.encode('ascii',errors='ignore').str.decode('utf-8')\n"
   ]
  },
  {
   "cell_type": "code",
   "execution_count": 32,
   "metadata": {},
   "outputs": [
    {
     "data": {
      "text/plain": [
       "array(['Bibliotecas Populares'], dtype=object)"
      ]
     },
     "execution_count": 32,
     "metadata": {},
     "output_type": "execute_result"
    }
   ],
   "source": [
    "raw_df_bibliotecas.Categoria.unique()"
   ]
  },
  {
   "cell_type": "code",
   "execution_count": 34,
   "metadata": {},
   "outputs": [],
   "source": [
    "def normalizar_campos(csv_file):\n",
    "    # Leer csv\n",
    "    raw_df = pd.read_csv(csv_file)\n",
    "    # Normalizar campos\n",
    "    raw_df.columns = raw_df.columns.str.lower()\n",
    "    raw_df.columns = raw_df.columns.str.normalize('NFKD').str.encode('ascii',errors='ignore').str.decode('utf-8')\n",
    "    return raw_df\n",
    "\n",
    "raw_df_bibliotecas = normalizar_campos(CSV_BIBLIOTECAS)\n",
    "raw_df_museos = normalizar_campos(CSV_MUSEOS)\n",
    "raw_df_cines = normalizar_campos(CSV_CINES)"
   ]
  },
  {
   "cell_type": "code",
   "execution_count": 38,
   "metadata": {},
   "outputs": [],
   "source": [
    "def nuevos_campos(df:pd.DataFrame):\n",
    "    match df.categoria[0]:\n",
    "        case 'Salas de cine':\n",
    "            df[['número de teléfono', 'mail']] = 's/d'\n",
    "            new_df = df[['cod_localidad', 'id_provincia', 'id_departamento', 'categoria', 'provincia', 'localidad', 'nombre', 'direccion', 'cp', 'número de teléfono','mail' , 'web']]\n",
    "        \n",
    "        case 'Espacios de Exhibición Patrimonial':\n",
    "            new_df = df[['cod_loc', 'idprovincia', 'iddepartamento', 'categoria', 'provincia', 'localidad', 'nombre', 'direccion', 'cp', 'telefono', 'mail', 'web']]\n",
    "        \n",
    "        case 'Bibliotecas Populares':\n",
    "            new_df = df[['cod_loc', 'idprovincia', 'iddepartamento', 'categoria', 'provincia', 'localidad', 'nombre', 'domicilio', 'cp', 'telefono', 'mail', 'web']]\n",
    "    \n",
    "    return new_df\n",
    "\n",
    "# Seleccionar columnas requeridas en cada dataframe\n",
    "df_bibliotecas = nuevos_campos(raw_df_bibliotecas)\n",
    "df_museos = nuevos_campos(raw_df_museos)\n",
    "df_cines = nuevos_campos(raw_df_cines)\n"
   ]
  },
  {
   "cell_type": "code",
   "execution_count": 3,
   "metadata": {},
   "outputs": [],
   "source": [
    "def set_columns_lower(df):\n",
    "    '''\n",
    "    Convierte los nombres de las variables\n",
    "    del dataframe a minúsculas\n",
    "    '''\n",
    "    df.columns = df.columns.str.lower()\n"
   ]
  },
  {
   "cell_type": "code",
   "execution_count": 5,
   "metadata": {},
   "outputs": [],
   "source": [
    "set_columns_lower(raw_df_bibliotecas)\n",
    "set_columns_lower(raw_df_museos)\n",
    "set_columns_lower(raw_df_cines)"
   ]
  },
  {
   "cell_type": "code",
   "execution_count": 8,
   "metadata": {},
   "outputs": [],
   "source": [
    "# Crear lista de nomenclaturas para nueva tabla\n",
    "columnas = ['cod_localidad', 'id_provincia', 'id_departamento', 'categoría', \n",
    "            'provincia', 'localidad', 'nombre', 'domicilio', 'código postal', \n",
    "            'número de teléfono', 'mail', 'web']"
   ]
  },
  {
   "cell_type": "code",
   "execution_count": 9,
   "metadata": {},
   "outputs": [],
   "source": [
    "# Seleccionar columnas necesarias en cada dataframe\n",
    "df_bibliotecas = raw_df_bibliotecas[['cod_loc', 'idprovincia', 'iddepartamento', 'categoría', 'provincia', 'localidad', 'nombre', 'domicilio', 'cp', 'teléfono', 'mail', 'web']]\n",
    "df_museos = raw_df_museos[['cod_loc', 'idprovincia', 'iddepartamento', 'categoria', 'provincia', 'localidad', 'nombre', 'direccion', 'cp', 'telefono', 'mail', 'web']]\n",
    "\n",
    "# Cines necesita columnas para telefono y mail\n",
    "raw_df_cines[['número de teléfono', 'mail']] = 's/d'\n",
    "df_cines = raw_df_cines[['cod_localidad', 'id_provincia', 'id_departamento', 'categoria', 'provincia', 'localidad', 'nombre', 'direccion', 'cp', 'número de teléfono','mail' , 'web']]"
   ]
  },
  {
   "cell_type": "code",
   "execution_count": 10,
   "metadata": {},
   "outputs": [],
   "source": [
    "# Renombrando columnas\n",
    "def rename_cols(df, new_names):\n",
    "    '''\n",
    "    Crea un diccionario a partir de un zip entre las columnas actuales \n",
    "    del dataframe y una lista con sus correspondientes nuevos nombres\n",
    "    Pasar como primer argumento el dataframe con las columnas a renombrar\n",
    "    Pasar como segundo argumento la lista con los nuevos nombres de las columnas\n",
    "    Los indices de ambos argumentos deben coincidir para que se descompaginen los nombres\n",
    "    '''\n",
    "    diccionario = dict(zip(df.columns, new_names))\n",
    "    df = df.rename(columns=diccionario)\n",
    "    return df\n"
   ]
  },
  {
   "cell_type": "code",
   "execution_count": 11,
   "metadata": {},
   "outputs": [],
   "source": [
    "# Crear dataframes con columnas renombradas\n",
    "df_bibliotecas = rename_cols(df_bibliotecas, columnas)\n",
    "df_museos = rename_cols(df_museos, columnas)\n",
    "df_cines = rename_cols(df_cines, columnas)"
   ]
  },
  {
   "cell_type": "markdown",
   "metadata": {},
   "source": [
    "#### 2.2 Normalizando datos"
   ]
  },
  {
   "cell_type": "code",
   "execution_count": 12,
   "metadata": {},
   "outputs": [],
   "source": [
    "df_bibliotecas.fillna('s/d', inplace=True)\n",
    "df_museos.fillna('s/d', inplace=True)\n",
    "df_cines.fillna('s/d', inplace=True)"
   ]
  },
  {
   "cell_type": "markdown",
   "metadata": {},
   "source": [
    "#### 2.3 Crear tabla única"
   ]
  },
  {
   "cell_type": "code",
   "execution_count": 13,
   "metadata": {},
   "outputs": [],
   "source": [
    "consolidado = pd.concat([df_bibliotecas,df_museos,df_cines], ignore_index=True)"
   ]
  },
  {
   "cell_type": "markdown",
   "metadata": {},
   "source": [
    "### 3 Procesando los datos conjuntos\n"
   ]
  },
  {
   "cell_type": "markdown",
   "metadata": {},
   "source": [
    "#### 3.1 Generar una tabla con la siguiente información:\n",
    "- Cantidad de registros totales por categoría\n",
    "- Cantidad de registros totales por fuente\n",
    "- Cantidad de registros por provincia y categoría"
   ]
  },
  {
   "cell_type": "code",
   "execution_count": 44,
   "metadata": {},
   "outputs": [],
   "source": [
    "registros_categoria = pd.DataFrame(consolidado.groupby(by= 'categoría')['categoría'].count())\n",
    "registros_categoria.columns=['total_registros']"
   ]
  },
  {
   "cell_type": "code",
   "execution_count": 45,
   "metadata": {},
   "outputs": [
    {
     "data": {
      "text/html": [
       "<div>\n",
       "<style scoped>\n",
       "    .dataframe tbody tr th:only-of-type {\n",
       "        vertical-align: middle;\n",
       "    }\n",
       "\n",
       "    .dataframe tbody tr th {\n",
       "        vertical-align: top;\n",
       "    }\n",
       "\n",
       "    .dataframe thead th {\n",
       "        text-align: right;\n",
       "    }\n",
       "</style>\n",
       "<table border=\"1\" class=\"dataframe\">\n",
       "  <thead>\n",
       "    <tr style=\"text-align: right;\">\n",
       "      <th></th>\n",
       "      <th>total_registros</th>\n",
       "    </tr>\n",
       "    <tr>\n",
       "      <th>categoría</th>\n",
       "      <th></th>\n",
       "    </tr>\n",
       "  </thead>\n",
       "  <tbody>\n",
       "    <tr>\n",
       "      <th>Bibliotecas Populares</th>\n",
       "      <td>2017</td>\n",
       "    </tr>\n",
       "    <tr>\n",
       "      <th>Espacios de Exhibición Patrimonial</th>\n",
       "      <td>1182</td>\n",
       "    </tr>\n",
       "    <tr>\n",
       "      <th>Salas de cine</th>\n",
       "      <td>316</td>\n",
       "    </tr>\n",
       "  </tbody>\n",
       "</table>\n",
       "</div>"
      ],
      "text/plain": [
       "                                    total_registros\n",
       "categoría                                          \n",
       "Bibliotecas Populares                          2017\n",
       "Espacios de Exhibición Patrimonial             1182\n",
       "Salas de cine                                   316"
      ]
     },
     "execution_count": 45,
     "metadata": {},
     "output_type": "execute_result"
    }
   ],
   "source": [
    "registros_categoria"
   ]
  },
  {
   "cell_type": "code",
   "execution_count": 46,
   "metadata": {},
   "outputs": [],
   "source": [
    "registros_fuente = pd.concat([raw_df_bibliotecas,raw_df_museos,raw_df_cines], ignore_index=True)\n",
    "registros_fuente = pd.DataFrame(registros_fuente.groupby(by='fuente')['fuente'].count())\n",
    "registros_fuente.columns=['total_registros']"
   ]
  },
  {
   "cell_type": "code",
   "execution_count": 47,
   "metadata": {},
   "outputs": [
    {
     "data": {
      "text/html": [
       "<div>\n",
       "<style scoped>\n",
       "    .dataframe tbody tr th:only-of-type {\n",
       "        vertical-align: middle;\n",
       "    }\n",
       "\n",
       "    .dataframe tbody tr th {\n",
       "        vertical-align: top;\n",
       "    }\n",
       "\n",
       "    .dataframe thead th {\n",
       "        text-align: right;\n",
       "    }\n",
       "</style>\n",
       "<table border=\"1\" class=\"dataframe\">\n",
       "  <thead>\n",
       "    <tr style=\"text-align: right;\">\n",
       "      <th></th>\n",
       "      <th>total_registros</th>\n",
       "    </tr>\n",
       "    <tr>\n",
       "      <th>fuente</th>\n",
       "      <th></th>\n",
       "    </tr>\n",
       "  </thead>\n",
       "  <tbody>\n",
       "    <tr>\n",
       "      <th>CNMLH - Enlace SInCA</th>\n",
       "      <td>1</td>\n",
       "    </tr>\n",
       "    <tr>\n",
       "      <th>CNMLH - Ente Cultural de Tucumán</th>\n",
       "      <td>1</td>\n",
       "    </tr>\n",
       "    <tr>\n",
       "      <th>CONABIP</th>\n",
       "      <td>2010</td>\n",
       "    </tr>\n",
       "    <tr>\n",
       "      <th>DNPyM</th>\n",
       "      <td>1048</td>\n",
       "    </tr>\n",
       "    <tr>\n",
       "      <th>Dirección Provincial de Patrimonio Cultural - Enlace SInCA</th>\n",
       "      <td>1</td>\n",
       "    </tr>\n",
       "    <tr>\n",
       "      <th>Dirección de Cultura de Villa Allende</th>\n",
       "      <td>2</td>\n",
       "    </tr>\n",
       "    <tr>\n",
       "      <th>Dirección de Cultura y de Educación de la Municipalidad de Unquillo</th>\n",
       "      <td>1</td>\n",
       "    </tr>\n",
       "    <tr>\n",
       "      <th>Gob. Pcia.</th>\n",
       "      <td>1</td>\n",
       "    </tr>\n",
       "    <tr>\n",
       "      <th>Gobierno de la Provincia</th>\n",
       "      <td>14</td>\n",
       "    </tr>\n",
       "    <tr>\n",
       "      <th>Gobierno de la Provincia de Chubut / SInCA 2013</th>\n",
       "      <td>3</td>\n",
       "    </tr>\n",
       "    <tr>\n",
       "      <th>Gobierno de la Provincia de Jujuy</th>\n",
       "      <td>4</td>\n",
       "    </tr>\n",
       "    <tr>\n",
       "      <th>Gobierno de la Provincia de La Pampa</th>\n",
       "      <td>1</td>\n",
       "    </tr>\n",
       "    <tr>\n",
       "      <th>Gobierno de la Provincia de La Rioja</th>\n",
       "      <td>1</td>\n",
       "    </tr>\n",
       "    <tr>\n",
       "      <th>Gobierno de la Provincia de Mendoza</th>\n",
       "      <td>4</td>\n",
       "    </tr>\n",
       "    <tr>\n",
       "      <th>Gobierno de la Provincia de Neuquén</th>\n",
       "      <td>1</td>\n",
       "    </tr>\n",
       "    <tr>\n",
       "      <th>Gobierno de la Provincia de Salta</th>\n",
       "      <td>1</td>\n",
       "    </tr>\n",
       "    <tr>\n",
       "      <th>Gobierno de la Provincia de San Juan</th>\n",
       "      <td>3</td>\n",
       "    </tr>\n",
       "    <tr>\n",
       "      <th>Gobierno de la provincia</th>\n",
       "      <td>1</td>\n",
       "    </tr>\n",
       "    <tr>\n",
       "      <th>INCAA / SInCA</th>\n",
       "      <td>316</td>\n",
       "    </tr>\n",
       "    <tr>\n",
       "      <th>Municipalidad de Puerto Madryn</th>\n",
       "      <td>2</td>\n",
       "    </tr>\n",
       "    <tr>\n",
       "      <th>Municipalidad de Río Gallegos - Red de Ciudades Creativas</th>\n",
       "      <td>4</td>\n",
       "    </tr>\n",
       "    <tr>\n",
       "      <th>Municipalidad de Santa Fe - Red de Ciudades Creativas</th>\n",
       "      <td>37</td>\n",
       "    </tr>\n",
       "    <tr>\n",
       "      <th>RCC</th>\n",
       "      <td>10</td>\n",
       "    </tr>\n",
       "    <tr>\n",
       "      <th>RCC- Córdoba</th>\n",
       "      <td>31</td>\n",
       "    </tr>\n",
       "    <tr>\n",
       "      <th>Red de Espacios Culturales Vicente López</th>\n",
       "      <td>4</td>\n",
       "    </tr>\n",
       "    <tr>\n",
       "      <th>SInCA</th>\n",
       "      <td>1</td>\n",
       "    </tr>\n",
       "    <tr>\n",
       "      <th>Secretaria de Cultura Provincial</th>\n",
       "      <td>6</td>\n",
       "    </tr>\n",
       "    <tr>\n",
       "      <th>Secretaria de Cultura del Municipio de Esteban Echeverría</th>\n",
       "      <td>1</td>\n",
       "    </tr>\n",
       "    <tr>\n",
       "      <th>UNLA</th>\n",
       "      <td>1</td>\n",
       "    </tr>\n",
       "    <tr>\n",
       "      <th>Área Gestión Cultural de la Municipalidad de Colonia Caroya</th>\n",
       "      <td>4</td>\n",
       "    </tr>\n",
       "  </tbody>\n",
       "</table>\n",
       "</div>"
      ],
      "text/plain": [
       "                                                    total_registros\n",
       "fuente                                                             \n",
       "CNMLH - Enlace SInCA                                              1\n",
       "CNMLH - Ente Cultural de Tucumán                                  1\n",
       "CONABIP                                                        2010\n",
       "DNPyM                                                          1048\n",
       "Dirección Provincial de Patrimonio Cultural - E...                1\n",
       "Dirección de Cultura de Villa Allende                             2\n",
       "Dirección de Cultura y de Educación de la Munic...                1\n",
       "Gob. Pcia.                                                        1\n",
       "Gobierno de la Provincia                                         14\n",
       "Gobierno de la Provincia de Chubut / SInCA 2013                   3\n",
       "Gobierno de la Provincia de Jujuy                                 4\n",
       "Gobierno de la Provincia de La Pampa                              1\n",
       "Gobierno de la Provincia de La Rioja                              1\n",
       "Gobierno de la Provincia de Mendoza                               4\n",
       "Gobierno de la Provincia de Neuquén                               1\n",
       "Gobierno de la Provincia de Salta                                 1\n",
       "Gobierno de la Provincia de San Juan                              3\n",
       "Gobierno de la provincia                                          1\n",
       "INCAA / SInCA                                                   316\n",
       "Municipalidad de Puerto Madryn                                    2\n",
       "Municipalidad de Río Gallegos - Red de Ciudades...                4\n",
       "Municipalidad de Santa Fe - Red de Ciudades Cre...               37\n",
       "RCC                                                              10\n",
       "RCC- Córdoba                                                     31\n",
       "Red de Espacios Culturales Vicente López                          4\n",
       "SInCA                                                             1\n",
       "Secretaria de Cultura Provincial                                  6\n",
       "Secretaria de Cultura del Municipio de Esteban ...                1\n",
       "UNLA                                                              1\n",
       "Área Gestión Cultural de la Municipalidad de Co...                4"
      ]
     },
     "execution_count": 47,
     "metadata": {},
     "output_type": "execute_result"
    }
   ],
   "source": [
    "registros_fuente"
   ]
  },
  {
   "cell_type": "code",
   "execution_count": 48,
   "metadata": {},
   "outputs": [],
   "source": [
    "registros_provincia_categoria = pd.DataFrame(consolidado.groupby(by=['provincia', 'categoría'])['provincia'].count())\n",
    "registros_provincia_categoria.columns = ['total_registros']"
   ]
  },
  {
   "cell_type": "code",
   "execution_count": 49,
   "metadata": {},
   "outputs": [
    {
     "data": {
      "text/html": [
       "<div>\n",
       "<style scoped>\n",
       "    .dataframe tbody tr th:only-of-type {\n",
       "        vertical-align: middle;\n",
       "    }\n",
       "\n",
       "    .dataframe tbody tr th {\n",
       "        vertical-align: top;\n",
       "    }\n",
       "\n",
       "    .dataframe thead th {\n",
       "        text-align: right;\n",
       "    }\n",
       "</style>\n",
       "<table border=\"1\" class=\"dataframe\">\n",
       "  <thead>\n",
       "    <tr style=\"text-align: right;\">\n",
       "      <th></th>\n",
       "      <th></th>\n",
       "      <th>total_registros</th>\n",
       "    </tr>\n",
       "    <tr>\n",
       "      <th>provincia</th>\n",
       "      <th>categoría</th>\n",
       "      <th></th>\n",
       "    </tr>\n",
       "  </thead>\n",
       "  <tbody>\n",
       "    <tr>\n",
       "      <th rowspan=\"3\" valign=\"top\">Buenos Aires</th>\n",
       "      <th>Bibliotecas Populares</th>\n",
       "      <td>543</td>\n",
       "    </tr>\n",
       "    <tr>\n",
       "      <th>Espacios de Exhibición Patrimonial</th>\n",
       "      <td>152</td>\n",
       "    </tr>\n",
       "    <tr>\n",
       "      <th>Salas de cine</th>\n",
       "      <td>101</td>\n",
       "    </tr>\n",
       "    <tr>\n",
       "      <th rowspan=\"2\" valign=\"top\">Catamarca</th>\n",
       "      <th>Bibliotecas Populares</th>\n",
       "      <td>38</td>\n",
       "    </tr>\n",
       "    <tr>\n",
       "      <th>Espacios de Exhibición Patrimonial</th>\n",
       "      <td>32</td>\n",
       "    </tr>\n",
       "    <tr>\n",
       "      <th>...</th>\n",
       "      <th>...</th>\n",
       "      <td>...</td>\n",
       "    </tr>\n",
       "    <tr>\n",
       "      <th>Tierra del Fuego</th>\n",
       "      <th>Salas de cine</th>\n",
       "      <td>3</td>\n",
       "    </tr>\n",
       "    <tr>\n",
       "      <th>Tierra del Fuego, Antártida e Islas del Atlántico Sur</th>\n",
       "      <th>Espacios de Exhibición Patrimonial</th>\n",
       "      <td>14</td>\n",
       "    </tr>\n",
       "    <tr>\n",
       "      <th rowspan=\"3\" valign=\"top\">Tucumán</th>\n",
       "      <th>Bibliotecas Populares</th>\n",
       "      <td>37</td>\n",
       "    </tr>\n",
       "    <tr>\n",
       "      <th>Espacios de Exhibición Patrimonial</th>\n",
       "      <td>26</td>\n",
       "    </tr>\n",
       "    <tr>\n",
       "      <th>Salas de cine</th>\n",
       "      <td>11</td>\n",
       "    </tr>\n",
       "  </tbody>\n",
       "</table>\n",
       "<p>73 rows × 1 columns</p>\n",
       "</div>"
      ],
      "text/plain": [
       "                                                                                       total_registros\n",
       "provincia                                          categoría                                          \n",
       "Buenos Aires                                       Bibliotecas Populares                           543\n",
       "                                                   Espacios de Exhibición Patrimonial              152\n",
       "                                                   Salas de cine                                   101\n",
       "Catamarca                                          Bibliotecas Populares                            38\n",
       "                                                   Espacios de Exhibición Patrimonial               32\n",
       "...                                                                                                ...\n",
       "Tierra del Fuego                                   Salas de cine                                     3\n",
       "Tierra del Fuego, Antártida e Islas del Atlánti... Espacios de Exhibición Patrimonial               14\n",
       "Tucumán                                            Bibliotecas Populares                            37\n",
       "                                                   Espacios de Exhibición Patrimonial               26\n",
       "                                                   Salas de cine                                    11\n",
       "\n",
       "[73 rows x 1 columns]"
      ]
     },
     "execution_count": 49,
     "metadata": {},
     "output_type": "execute_result"
    }
   ],
   "source": [
    "registros_provincia_categoria"
   ]
  },
  {
   "cell_type": "markdown",
   "metadata": {},
   "source": [
    "#### 3.2 Procesar la información de cines\n",
    "Crear una tabla que contenga:\n",
    "- Provincia\n",
    "- Cantidad de pantallas\n",
    "- Cantidad de butacas\n",
    "- Cantidad de espacios INCAA"
   ]
  },
  {
   "cell_type": "code",
   "execution_count": 137,
   "metadata": {},
   "outputs": [],
   "source": [
    "tabla_cines = raw_df_cines[['provincia', 'pantallas', 'butacas', 'espacio_incaa']].copy()\n",
    "tabla_cines['espacio_incaa'] = (tabla_cines['espacio_incaa'] == 'Si').astype(int)\n",
    "tabla_cines = tabla_cines.groupby(by='provincia').sum()"
   ]
  }
 ],
 "metadata": {
  "kernelspec": {
   "display_name": "Python 3.10.5 64-bit",
   "language": "python",
   "name": "python3"
  },
  "language_info": {
   "codemirror_mode": {
    "name": "ipython",
    "version": 3
   },
   "file_extension": ".py",
   "mimetype": "text/x-python",
   "name": "python",
   "nbconvert_exporter": "python",
   "pygments_lexer": "ipython3",
   "version": "3.10.10"
  },
  "orig_nbformat": 4,
  "vscode": {
   "interpreter": {
    "hash": "ad2b602d900782d1669cfe4adc170349fca2d944c0dfaa7982a8f0f32d4ec4d5"
   }
  }
 },
 "nbformat": 4,
 "nbformat_minor": 2
}
