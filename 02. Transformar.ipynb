{
 "cells": [
  {
   "cell_type": "code",
   "execution_count": 2,
   "metadata": {},
   "outputs": [],
   "source": [
    "import pandas as pd\n",
    "import unicodedata\n",
    "from rutas import CSV_BIBLIOTECAS, CSV_CINES, CSV_MUSEOS\n"
   ]
  },
  {
   "cell_type": "markdown",
   "metadata": {},
   "source": [
    "### 2 Procesamiento de Datos\n",
    "<span>Normalizar toda la información de Museos, Salas de Cine y Bibliotecas Populares, para crear una única tabla que contenga:</span>\n",
    "\n",
    "<style>\n",
    "    ul{columns:4;}\n",
    "    div{margin-top:25px;}\n",
    "</style>\n",
    "<div class='lista'>\n",
    "    <ul>\n",
    "        <li>cod_localidad</li>\n",
    "        <li>id_provincia</li>\n",
    "        <li>id_departamento</li>\n",
    "        <li>categoría</li>\n",
    "        <li>provincia</li>\n",
    "        <li>localidad</li>\n",
    "        <li>nombre</li>\n",
    "        <li>domicilio</li>\n",
    "        <li>código postal</li>\n",
    "        <li>número de teléfono</li>\n",
    "        <li>mail</li>\n",
    "        <li>web</li>\n",
    "    </ul>\n",
    "</div>\n"
   ]
  },
  {
   "cell_type": "markdown",
   "metadata": {},
   "source": [
    "#### 2.1 Normalizando y consolidando campos"
   ]
  },
  {
   "cell_type": "code",
   "execution_count": 3,
   "metadata": {},
   "outputs": [],
   "source": [
    "# Leer csvs\n",
    "\n",
    "raw_df_bibliotecas = pd.read_csv(CSV_BIBLIOTECAS)\n",
    "raw_df_museos = pd.read_csv(CSV_MUSEOS)\n",
    "raw_df_cines = pd.read_csv(CSV_CINES)"
   ]
  },
  {
   "cell_type": "code",
   "execution_count": 4,
   "metadata": {},
   "outputs": [],
   "source": [
    "def normalizar_csv(csv_file:str):\n",
    "    '''\n",
    "    Carga un archivo csv como DataFrame y normaliza tanto sus campos\n",
    "    como sus valores tipo string.\n",
    "    Toma como argumento un string con la ruta al CSV\n",
    "    '''\n",
    "    # Leer csv\n",
    "    raw_df = pd.read_csv(csv_file)\n",
    "    # Normalizar campos\n",
    "    raw_df.columns = raw_df.columns.str.lower()\n",
    "    raw_df.columns = raw_df.columns.str.normalize('NFKD').str.encode('ascii',errors='ignore').str.decode('utf-8')\n",
    "    \n",
    "    # Normalizar datos\n",
    "    raw_df = raw_df.applymap(lambda x: x.strip() if isinstance(x, str) else x)\n",
    "    raw_df.fillna('s/d', inplace=True)\n",
    "\n",
    "    def no_tildes(texto:str):\n",
    "        '''\n",
    "        Quita las tildes de un string. Toma como argumento un string.\n",
    "        '''\n",
    "        new_value = unicodedata.normalize('NFKD',texto).encode('ascii',errors='ignore').decode('utf-8')\n",
    "        return new_value\n",
    "    \n",
    "    new_df = raw_df.applymap(lambda x: no_tildes(x) if isinstance(x, str) else x)\n",
    "    \n",
    "    # Unificar Tierra Del Fuego\n",
    "    def limpiar_tdf(provincia:pd.Series):\n",
    "        '''\n",
    "        Quita el exceso de texto para 'Tierra del Fuego' en el campo 'Provincia'.\n",
    "        Toma como argumento un objeto Pandas Series.\n",
    "        '''\n",
    "        return provincia.split(',')[0]\n",
    "\n",
    "    new_df['provincia'] = new_df['provincia'].apply(limpiar_tdf)\n",
    "    return new_df\n",
    "\n",
    "raw_df_bibliotecas = normalizar_csv(CSV_BIBLIOTECAS)\n",
    "raw_df_museos = normalizar_csv(CSV_MUSEOS)\n",
    "raw_df_cines = normalizar_csv(CSV_CINES)"
   ]
  },
  {
   "cell_type": "code",
   "execution_count": 12,
   "metadata": {},
   "outputs": [],
   "source": [
    "def nuevos_campos(df:pd.DataFrame):\n",
    "    match df.categoria[0]:\n",
    "        case 'Salas de cine':\n",
    "            new_df = df[['cod_localidad', 'id_provincia', 'id_departamento', 'categoria', 'provincia', 'localidad', 'nombre', 'direccion', 'cp']].copy()\n",
    "            new_df[['número de teléfono', 'mail']] = 's/d'\n",
    "            new_df['web'] = df['web']\n",
    "        \n",
    "        case 'Espacios de Exhibicion Patrimonial':\n",
    "            new_df = df[['cod_loc', 'idprovincia', 'iddepartamento', 'categoria', 'provincia', 'localidad', 'nombre', 'direccion', 'cp', 'telefono', 'mail', 'web']]\n",
    "        \n",
    "        case 'Bibliotecas Populares':\n",
    "            new_df = df[['cod_loc', 'idprovincia', 'iddepartamento', 'categoria', 'provincia', 'localidad', 'nombre', 'domicilio', 'cp', 'telefono', 'mail', 'web']]\n",
    "    \n",
    "    return new_df"
   ]
  },
  {
   "cell_type": "code",
   "execution_count": 15,
   "metadata": {},
   "outputs": [],
   "source": [
    "# Seleccionar columnas requeridas en cada dataframe\n",
    "df_bibliotecas = nuevos_campos(raw_df_bibliotecas)\n",
    "df_museos = nuevos_campos(raw_df_museos)\n",
    "df_cines = nuevos_campos(raw_df_cines)"
   ]
  },
  {
   "cell_type": "code",
   "execution_count": 16,
   "metadata": {},
   "outputs": [],
   "source": [
    "# Renombrando columnas\n",
    "def rename_cols(df):\n",
    "    '''\n",
    "    Crea un diccionario a partir de un zip entre las columnas actuales \n",
    "    del dataframe y una lista con sus correspondientes nuevos nombres\n",
    "    Pasar como argumento el dataframe con las columnas a renombrar\n",
    "    '''\n",
    "    # Crear lista de nomenclaturas para nueva tabla\n",
    "    columnas = ['cod_localidad', 'id_provincia', 'id_departamento', 'categoría', \n",
    "                'provincia', 'localidad', 'nombre', 'domicilio', 'código postal', \n",
    "                'número de teléfono', 'mail', 'web']\n",
    "    diccionario = dict(zip(df.columns, columnas))\n",
    "    df = df.rename(columns=diccionario)\n",
    "    return df\n"
   ]
  },
  {
   "cell_type": "code",
   "execution_count": 17,
   "metadata": {},
   "outputs": [],
   "source": [
    "# Crear dataframes con columnas renombradas\n",
    "df_bibliotecas = rename_cols(df_bibliotecas)\n",
    "df_museos = rename_cols(df_museos)\n",
    "df_cines = rename_cols(df_cines)"
   ]
  },
  {
   "cell_type": "markdown",
   "metadata": {},
   "source": [
    "#### 2.2 Normalizando datos"
   ]
  },
  {
   "cell_type": "code",
   "execution_count": 9,
   "metadata": {},
   "outputs": [],
   "source": [
    "df_bibliotecas.fillna('s/d', inplace=True)\n",
    "df_museos.fillna('s/d', inplace=True)\n",
    "df_cines.fillna('s/d', inplace=True)"
   ]
  },
  {
   "cell_type": "markdown",
   "metadata": {},
   "source": [
    "### 3 Creación de Tablas"
   ]
  },
  {
   "cell_type": "markdown",
   "metadata": {},
   "source": [
    "#### 3.1 Crear tabla única"
   ]
  },
  {
   "cell_type": "code",
   "execution_count": 10,
   "metadata": {},
   "outputs": [],
   "source": [
    "consolidado = pd.concat([df_bibliotecas,df_museos,df_cines], ignore_index=True)"
   ]
  },
  {
   "cell_type": "markdown",
   "metadata": {},
   "source": [
    "#### 3.2 Crear tabla de cantidad de registros"
   ]
  },
  {
   "cell_type": "code",
   "execution_count": 19,
   "metadata": {},
   "outputs": [],
   "source": [
    "contador_registros = pd.concat([raw_df_bibliotecas,raw_df_museos,raw_df_cines], ignore_index=True)[['provincia','categoria','fuente']]"
   ]
  },
  {
   "cell_type": "markdown",
   "metadata": {},
   "source": [
    "#### 3.3 Crear tabla de cines"
   ]
  },
  {
   "cell_type": "code",
   "execution_count": 23,
   "metadata": {},
   "outputs": [],
   "source": [
    "contador_cines = raw_df_cines[['provincia','pantallas','butacas','espacio_incaa']]"
   ]
  }
 ],
 "metadata": {
  "kernelspec": {
   "display_name": "Python 3 (ipykernel)",
   "language": "python",
   "name": "python3"
  },
  "language_info": {
   "codemirror_mode": {
    "name": "ipython",
    "version": 3
   },
   "file_extension": ".py",
   "mimetype": "text/x-python",
   "name": "python",
   "nbconvert_exporter": "python",
   "pygments_lexer": "ipython3",
   "version": "3.10.10"
  },
  "vscode": {
   "interpreter": {
    "hash": "ad2b602d900782d1669cfe4adc170349fca2d944c0dfaa7982a8f0f32d4ec4d5"
   }
  }
 },
 "nbformat": 4,
 "nbformat_minor": 4
}
